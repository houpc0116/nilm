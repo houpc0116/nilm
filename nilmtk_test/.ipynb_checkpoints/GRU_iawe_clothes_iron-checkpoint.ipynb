{
 "cells": [
  {
   "cell_type": "code",
   "execution_count": 1,
   "id": "e87ea386",
   "metadata": {},
   "outputs": [
    {
     "name": "stderr",
     "output_type": "stream",
     "text": [
      "Using TensorFlow backend.\n",
      "/home/houpc16/anaconda3/envs/nilmtk-env/lib/python3.7/site-packages/tensorflow/python/framework/dtypes.py:516: FutureWarning: Passing (type, 1) or '1type' as a synonym of type is deprecated; in a future version of numpy, it will be understood as (type, (1,)) / '(1,)type'.\n",
      "  _np_qint8 = np.dtype([(\"qint8\", np.int8, 1)])\n",
      "/home/houpc16/anaconda3/envs/nilmtk-env/lib/python3.7/site-packages/tensorflow/python/framework/dtypes.py:517: FutureWarning: Passing (type, 1) or '1type' as a synonym of type is deprecated; in a future version of numpy, it will be understood as (type, (1,)) / '(1,)type'.\n",
      "  _np_quint8 = np.dtype([(\"quint8\", np.uint8, 1)])\n",
      "/home/houpc16/anaconda3/envs/nilmtk-env/lib/python3.7/site-packages/tensorflow/python/framework/dtypes.py:518: FutureWarning: Passing (type, 1) or '1type' as a synonym of type is deprecated; in a future version of numpy, it will be understood as (type, (1,)) / '(1,)type'.\n",
      "  _np_qint16 = np.dtype([(\"qint16\", np.int16, 1)])\n",
      "/home/houpc16/anaconda3/envs/nilmtk-env/lib/python3.7/site-packages/tensorflow/python/framework/dtypes.py:519: FutureWarning: Passing (type, 1) or '1type' as a synonym of type is deprecated; in a future version of numpy, it will be understood as (type, (1,)) / '(1,)type'.\n",
      "  _np_quint16 = np.dtype([(\"quint16\", np.uint16, 1)])\n",
      "/home/houpc16/anaconda3/envs/nilmtk-env/lib/python3.7/site-packages/tensorflow/python/framework/dtypes.py:520: FutureWarning: Passing (type, 1) or '1type' as a synonym of type is deprecated; in a future version of numpy, it will be understood as (type, (1,)) / '(1,)type'.\n",
      "  _np_qint32 = np.dtype([(\"qint32\", np.int32, 1)])\n",
      "/home/houpc16/anaconda3/envs/nilmtk-env/lib/python3.7/site-packages/tensorflow/python/framework/dtypes.py:525: FutureWarning: Passing (type, 1) or '1type' as a synonym of type is deprecated; in a future version of numpy, it will be understood as (type, (1,)) / '(1,)type'.\n",
      "  np_resource = np.dtype([(\"resource\", np.ubyte, 1)])\n",
      "/home/houpc16/anaconda3/envs/nilmtk-env/lib/python3.7/site-packages/tensorboard/compat/tensorflow_stub/dtypes.py:541: FutureWarning: Passing (type, 1) or '1type' as a synonym of type is deprecated; in a future version of numpy, it will be understood as (type, (1,)) / '(1,)type'.\n",
      "  _np_qint8 = np.dtype([(\"qint8\", np.int8, 1)])\n",
      "/home/houpc16/anaconda3/envs/nilmtk-env/lib/python3.7/site-packages/tensorboard/compat/tensorflow_stub/dtypes.py:542: FutureWarning: Passing (type, 1) or '1type' as a synonym of type is deprecated; in a future version of numpy, it will be understood as (type, (1,)) / '(1,)type'.\n",
      "  _np_quint8 = np.dtype([(\"quint8\", np.uint8, 1)])\n",
      "/home/houpc16/anaconda3/envs/nilmtk-env/lib/python3.7/site-packages/tensorboard/compat/tensorflow_stub/dtypes.py:543: FutureWarning: Passing (type, 1) or '1type' as a synonym of type is deprecated; in a future version of numpy, it will be understood as (type, (1,)) / '(1,)type'.\n",
      "  _np_qint16 = np.dtype([(\"qint16\", np.int16, 1)])\n",
      "/home/houpc16/anaconda3/envs/nilmtk-env/lib/python3.7/site-packages/tensorboard/compat/tensorflow_stub/dtypes.py:544: FutureWarning: Passing (type, 1) or '1type' as a synonym of type is deprecated; in a future version of numpy, it will be understood as (type, (1,)) / '(1,)type'.\n",
      "  _np_quint16 = np.dtype([(\"quint16\", np.uint16, 1)])\n",
      "/home/houpc16/anaconda3/envs/nilmtk-env/lib/python3.7/site-packages/tensorboard/compat/tensorflow_stub/dtypes.py:545: FutureWarning: Passing (type, 1) or '1type' as a synonym of type is deprecated; in a future version of numpy, it will be understood as (type, (1,)) / '(1,)type'.\n",
      "  _np_qint32 = np.dtype([(\"qint32\", np.int32, 1)])\n",
      "/home/houpc16/anaconda3/envs/nilmtk-env/lib/python3.7/site-packages/tensorboard/compat/tensorflow_stub/dtypes.py:550: FutureWarning: Passing (type, 1) or '1type' as a synonym of type is deprecated; in a future version of numpy, it will be understood as (type, (1,)) / '(1,)type'.\n",
      "  np_resource = np.dtype([(\"resource\", np.ubyte, 1)])\n"
     ]
    }
   ],
   "source": [
    "from __future__ import print_function, division\n",
    "import time\n",
    "\n",
    "from matplotlib import rcParams\n",
    "import matplotlib.pyplot as plt\n",
    "\n",
    "from nilmtk import DataSet, TimeFrame, MeterGroup, HDFDataStore\n",
    "from grudisaggregator import GRUDisaggregator\n",
    "import metrics"
   ]
  },
  {
   "cell_type": "code",
   "execution_count": 2,
   "id": "f2850e71",
   "metadata": {},
   "outputs": [],
   "source": [
    "import warnings; warnings.simplefilter('ignore')\n",
    "\n",
    "from nilmtk import DataSet\n",
    "train = DataSet('iawe.h5')\n",
    "test = DataSet('iawe.h5')\n",
    "#meter_key = 'washing machine'\n",
    "train.set_window(start=\"2013-05-24\", end=\"2013-6-30\")\n",
    "test.set_window(start=\"2013-6-30\", end=\"2013-08-02\")\n",
    "train_elec = train.buildings[1].elec\n",
    "test_elec = test.buildings[1].elec"
   ]
  },
  {
   "cell_type": "code",
   "execution_count": 3,
   "id": "515bf57f",
   "metadata": {},
   "outputs": [],
   "source": [
    "train_building = 1\n",
    "test_building = 1\n",
    "sample_period = 60\n",
    "meter_key = 'clothes iron'\n",
    "train_elec = train.buildings[train_building].elec\n",
    "test_elec = test.buildings[test_building].elec"
   ]
  },
  {
   "cell_type": "code",
   "execution_count": 4,
   "id": "11e9a468",
   "metadata": {},
   "outputs": [
    {
     "name": "stdout",
     "output_type": "stream",
     "text": [
      "WARNING:tensorflow:From /home/houpc16/anaconda3/envs/nilmtk-env/lib/python3.7/site-packages/keras/backend/tensorflow_backend.py:66: The name tf.get_default_graph is deprecated. Please use tf.compat.v1.get_default_graph instead.\n",
      "\n",
      "WARNING:tensorflow:From /home/houpc16/anaconda3/envs/nilmtk-env/lib/python3.7/site-packages/keras/backend/tensorflow_backend.py:541: The name tf.placeholder is deprecated. Please use tf.compat.v1.placeholder instead.\n",
      "\n",
      "WARNING:tensorflow:From /home/houpc16/anaconda3/envs/nilmtk-env/lib/python3.7/site-packages/keras/backend/tensorflow_backend.py:4432: The name tf.random_uniform is deprecated. Please use tf.random.uniform instead.\n",
      "\n",
      "WARNING:tensorflow:From /home/houpc16/anaconda3/envs/nilmtk-env/lib/python3.7/site-packages/keras/optimizers.py:793: The name tf.train.Optimizer is deprecated. Please use tf.compat.v1.train.Optimizer instead.\n",
      "\n"
     ]
    }
   ],
   "source": [
    "train_meter = train_elec.submeters()[meter_key]\n",
    "train_mains = train_elec.mains()\n",
    "test_mains = test_elec.mains()\n",
    "disaggregator = GRUDisaggregator()"
   ]
  },
  {
   "cell_type": "code",
   "execution_count": 5,
   "id": "a27ce4b7",
   "metadata": {},
   "outputs": [
    {
     "name": "stdout",
     "output_type": "stream",
     "text": [
      "========== TRAIN ============\n",
      "CHECKPOINT 0\n",
      "Loading data for meter ElecMeterID(instance=2, building=1, dataset='iAWE')     \n",
      "Done loading data all meters for this chunk.\n",
      "WARNING:tensorflow:From /home/houpc16/anaconda3/envs/nilmtk-env/lib/python3.7/site-packages/tensorflow/python/ops/math_grad.py:1250: add_dispatch_support.<locals>.wrapper (from tensorflow.python.ops.array_ops) is deprecated and will be removed in a future version.\n",
      "Instructions for updating:\n",
      "Use tf.where in 2.0, which has the same broadcast rule as np.where\n",
      "WARNING:tensorflow:From /home/houpc16/anaconda3/envs/nilmtk-env/lib/python3.7/site-packages/keras/backend/tensorflow_backend.py:1033: The name tf.assign_add is deprecated. Please use tf.compat.v1.assign_add instead.\n",
      "\n",
      "WARNING:tensorflow:From /home/houpc16/anaconda3/envs/nilmtk-env/lib/python3.7/site-packages/keras/backend/tensorflow_backend.py:1020: The name tf.assign is deprecated. Please use tf.compat.v1.assign instead.\n",
      "\n",
      "Epoch 1/1\n"
     ]
    },
    {
     "name": "stderr",
     "output_type": "stream",
     "text": [
      "2022-03-30 01:02:10.376043: I tensorflow/core/platform/cpu_feature_guard.cc:142] Your CPU supports instructions that this TensorFlow binary was not compiled to use: AVX2 FMA\n",
      "2022-03-30 01:02:10.411894: I tensorflow/core/platform/profile_utils/cpu_utils.cc:94] CPU Frequency: 2200195000 Hz\n",
      "2022-03-30 01:02:10.412356: I tensorflow/compiler/xla/service/service.cc:168] XLA service 0x55a1241e46b0 executing computations on platform Host. Devices:\n",
      "2022-03-30 01:02:10.412388: I tensorflow/compiler/xla/service/service.cc:175]   StreamExecutor device (0): <undefined>, <undefined>\n",
      "2022-03-30 01:02:11.004565: W tensorflow/compiler/jit/mark_for_compilation_pass.cc:1412] (One-time warning): Not using XLA:CPU for cluster because envvar TF_XLA_FLAGS=--tf_xla_cpu_global_jit was not set.  If you want XLA:CPU, either set that envvar, or use experimental_jit_scope to enable XLA:CPU.  To confirm that XLA is active, pass --vmodule=xla_compilation_cache=1 (as a proper command-line flag, not via TF_XLA_FLAGS) or set the envvar XLA_FLAGS=--xla_hlo_profile.\n"
     ]
    },
    {
     "name": "stdout",
     "output_type": "stream",
     "text": [
      "31873/31873 [==============================] - 8s 254us/step - loss: 5.7376e-06\n",
      "CHECKPOINT 1\n",
      "Loading data for meter ElecMeterID(instance=2, building=1, dataset='iAWE')     \n",
      "Done loading data all meters for this chunk.\n",
      "Epoch 1/1\n",
      "31873/31873 [==============================] - 5s 165us/step - loss: 5.4459e-06\n",
      "CHECKPOINT 2\n",
      "Loading data for meter ElecMeterID(instance=2, building=1, dataset='iAWE')     \n",
      "Done loading data all meters for this chunk.\n",
      "Epoch 1/1\n",
      "31873/31873 [==============================] - 5s 163us/step - loss: 5.4782e-06\n",
      "Train = 36.992356300354004 seconds.\n"
     ]
    }
   ],
   "source": [
    "start = time.time()\n",
    "print(\"========== TRAIN ============\")\n",
    "epochs = 0\n",
    "train_building = 1\n",
    "test_building = 1\n",
    "sample_period = 60\n",
    "for i in range(3):\n",
    "    print(\"CHECKPOINT {}\".format(epochs))\n",
    "    disaggregator.train(train_mains, train_meter, epochs=1, sample_period=sample_period)\n",
    "    epochs += 1\n",
    "    disaggregator.export_model(\"UKDALE-GRU-h{}-{}-{}epochs_iawe.h5\".format(train_building,\n",
    "                                                        meter_key,\n",
    "                                                        epochs))\n",
    "end = time.time()\n",
    "print(\"Train =\", end-start, \"seconds.\")"
   ]
  },
  {
   "cell_type": "code",
   "execution_count": null,
   "id": "ef3a6ea6",
   "metadata": {},
   "outputs": [
    {
     "name": "stdout",
     "output_type": "stream",
     "text": [
      "========== DISAGGREGATE ============\n",
      "Loading data for meter ElecMeterID(instance=2, building=1, dataset='iAWE')     \n",
      "Done loading data all meters for this chunk.\n",
      "New sensible chunk: 2309\n",
      "Loading data for meter ElecMeterID(instance=2, building=1, dataset='iAWE')     \n",
      "Done loading data all meters for this chunk.\n",
      "New sensible chunk: 790\n",
      "Loading data for meter ElecMeterID(instance=2, building=1, dataset='iAWE')     \n",
      "Done loading data all meters for this chunk.\n",
      "New sensible chunk: 1634\n",
      "Loading data for meter ElecMeterID(instance=2, building=1, dataset='iAWE')     \n",
      "Done loading data all meters for this chunk.\n",
      "New sensible chunk: 1518\n",
      "Loading data for meter ElecMeterID(instance=2, building=1, dataset='iAWE')     \n",
      "Done loading data all meters for this chunk.\n",
      "New sensible chunk: 1689\n",
      "Loading data for meter ElecMeterID(instance=2, building=1, dataset='iAWE')     \n",
      "Done loading data all meters for this chunk.\n",
      "New sensible chunk: 243\n",
      "Loading data for meter ElecMeterID(instance=2, building=1, dataset='iAWE')     \n",
      "Done loading data all meters for this chunk.\n",
      "New sensible chunk: 653\n",
      "Loading data for meter ElecMeterID(instance=2, building=1, dataset='iAWE')     \n",
      "Done loading data all meters for this chunk.\n",
      "New sensible chunk: 225\n",
      "Loading data for meter ElecMeterID(instance=2, building=1, dataset='iAWE')     \n",
      "Done loading data all meters for this chunk.\n",
      "Loading data for meter ElecMeterID(instance=2, building=1, dataset='iAWE')     \n",
      "Done loading data all meters for this chunk.\n",
      "Loading data for meter ElecMeterID(instance=2, building=1, dataset='iAWE')     \n",
      "Done loading data all meters for this chunk.\n",
      "Loading data for meter ElecMeterID(instance=2, building=1, dataset='iAWE')     \n",
      "Done loading data all meters for this chunk.\n",
      "Loading data for meter ElecMeterID(instance=2, building=1, dataset='iAWE')     \n",
      "Done loading data all meters for this chunk.\n",
      "New sensible chunk: 140\n",
      "Loading data for meter ElecMeterID(instance=2, building=1, dataset='iAWE')     \n",
      "Done loading data all meters for this chunk.\n",
      "New sensible chunk: 3931\n",
      "Loading data for meter ElecMeterID(instance=2, building=1, dataset='iAWE')     \n",
      "Done loading data all meters for this chunk.\n",
      "New sensible chunk: 3459\n",
      "Loading data for meter ElecMeterID(instance=2, building=1, dataset='iAWE')     \n",
      "Done loading data all meters for this chunk.\n",
      "New sensible chunk: 581\n",
      "Loading data for meter ElecMeterID(instance=2, building=1, dataset='iAWE')     \n",
      "Done loading data all meters for this chunk.\n",
      "New sensible chunk: 681\n",
      "Loading data for meter ElecMeterID(instance=2, building=1, dataset='iAWE')     \n",
      "Done loading data all meters for this chunk.\n",
      "New sensible chunk: 1766\n",
      "Loading data for meter ElecMeterID(instance=2, building=1, dataset='iAWE')     \n",
      "Done loading data all meters for this chunk.\n",
      "New sensible chunk: 3589\n",
      "Loading data for meter ElecMeterID(instance=2, building=1, dataset='iAWE')     \n",
      "Done loading data all meters for this chunk.\n",
      "New sensible chunk: 2015\n",
      "Loading data for meter ElecMeterID(instance=1, building=1, dataset='iAWE')     "
     ]
    }
   ],
   "source": [
    "print(\"========== DISAGGREGATE ============\")\n",
    "disag_filename = \"disag_iawe_clothes_iron.h5\"\n",
    "output = HDFDataStore(disag_filename, 'w')\n",
    "disaggregator.disaggregate(test_mains, output, train_meter, sample_period=sample_period)\n",
    "output.close()"
   ]
  },
  {
   "cell_type": "code",
   "execution_count": 7,
   "id": "3b58e9ff",
   "metadata": {},
   "outputs": [
    {
     "name": "stdout",
     "output_type": "stream",
     "text": [
      "========== RESULTS ============\n",
      "============ Recall: 0.0\n",
      "============ Precision: nan\n",
      "============ Accuracy: 0.001400032308437887\n",
      "============ F1 Score: 0.001400032308437887\n",
      "============ Relative error in total energy: 0.13360959275191456\n",
      "============ Mean absolute error(in Watts): 3.6316025878608813\n"
     ]
    }
   ],
   "source": [
    "print(\"========== RESULTS ============\")\n",
    "result = DataSet(disag_filename)\n",
    "res_elec = result.buildings[test_building].elec\n",
    "rpaf = metrics.recall_precision_accuracy_f1(res_elec[meter_key], test_elec[meter_key])\n",
    "print(\"============ Recall: {}\".format(rpaf[0]))\n",
    "print(\"============ Precision: {}\".format(rpaf[1]))\n",
    "print(\"============ Accuracy: {}\".format(rpaf[2]))\n",
    "print(\"============ F1 Score: {}\".format(rpaf[2]))\n",
    "\n",
    "print(\"============ Relative error in total energy: {}\".format(metrics.relative_error_total_energy(res_elec[meter_key], test_elec[meter_key])))\n",
    "print(\"============ Mean absolute error(in Watts): {}\".format(metrics.mean_absolute_error(res_elec[meter_key], test_elec[meter_key])))"
   ]
  },
  {
   "cell_type": "code",
   "execution_count": 8,
   "id": "b473463b",
   "metadata": {},
   "outputs": [
    {
     "data": {
      "image/png": "[encoded data removed]",
      "text/plain": [
       "<Figure size 432x288 with 1 Axes>"
      ]
     },
     "metadata": {
      "needs_background": "light"
     },
     "output_type": "display_data"
    }
   ],
   "source": [
    "result = DataSet(disag_filename)\n",
    "res_elec = result.buildings[1].elec\n",
    "predicted = res_elec[meter_key]\n",
    "ground_truth = test_elec[meter_key]\n",
    "\n",
    "import matplotlib.pyplot as plt\n",
    "predicted.plot()\n",
    "ground_truth.plot()\n",
    "plt.show()"
   ]
  },
  {
   "cell_type": "code",
   "execution_count": null,
   "id": "66b5aecf",
   "metadata": {},
   "outputs": [],
   "source": []
  }
 ],
 "metadata": {
  "kernelspec": {
   "display_name": "Python 3 (ipykernel)",
   "language": "python",
   "name": "python3"
  },
  "language_info": {
   "codemirror_mode": {
    "name": "ipython",
    "version": 3
   },
   "file_extension": ".py",
   "mimetype": "text/x-python",
   "name": "python",
   "nbconvert_exporter": "python",
   "pygments_lexer": "ipython3",
   "version": "3.7.12"
  }
 },
 "nbformat": 4,
 "nbformat_minor": 5
}
